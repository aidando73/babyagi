{
 "cells": [
  {
   "cell_type": "code",
   "execution_count": 2,
   "metadata": {},
   "outputs": [],
   "source": [
    "import os\n",
    "import openai\n",
    "\n",
    "OPENAI_API_KEY = os.getenv(\"OPENAI_API_KEY\", \"\")\n",
    "openai.api_key = OPENAI_API_KEY"
   ]
  },
  {
   "cell_type": "code",
   "execution_count": 26,
   "metadata": {},
   "outputs": [
    {
     "name": "stdout",
     "output_type": "stream",
     "text": [
      "{\n",
      "  \"choices\": [\n",
      "    {\n",
      "      \"finish_reason\": \"stop\",\n",
      "      \"index\": 0,\n",
      "      \"logprobs\": null,\n",
      "      \"message\": {\n",
      "        \"content\": \"Hello! How can I assist you today?\",\n",
      "        \"refusal\": null,\n",
      "        \"role\": \"assistant\"\n",
      "      }\n",
      "    }\n",
      "  ],\n",
      "  \"created\": 1734502676,\n",
      "  \"id\": \"chatcmpl-AfhfYvk6IGBxI7vG5VauRLFrXjMpI\",\n",
      "  \"model\": \"gpt-4o-mini-2024-07-18\",\n",
      "  \"object\": \"chat.completion\",\n",
      "  \"system_fingerprint\": \"fp_6fc10e10eb\",\n",
      "  \"usage\": {\n",
      "    \"completion_tokens\": 9,\n",
      "    \"completion_tokens_details\": {\n",
      "      \"accepted_prediction_tokens\": 0,\n",
      "      \"audio_tokens\": 0,\n",
      "      \"reasoning_tokens\": 0,\n",
      "      \"rejected_prediction_tokens\": 0\n",
      "    },\n",
      "    \"prompt_tokens\": 9,\n",
      "    \"prompt_tokens_details\": {\n",
      "      \"audio_tokens\": 0,\n",
      "      \"cached_tokens\": 0\n",
      "    },\n",
      "    \"total_tokens\": 18\n",
      "  }\n",
      "}\n"
     ]
    },
    {
     "data": {
      "text/plain": [
       "'Hello! How can I assist you today?'"
      ]
     },
     "execution_count": 26,
     "metadata": {},
     "output_type": "execute_result"
    }
   ],
   "source": [
    "messages = [{\"role\": \"system\", \"content\": \"Hello World\"}]\n",
    "response = openai.ChatCompletion.create(\n",
    "    model=\"gpt-4o-mini-2024-07-18\",\n",
    "    messages=messages,\n",
    "    n=1,\n",
    "    stop=None,\n",
    ")\n",
    "print(response)\n",
    "response.choices[0].message.content"
   ]
  },
  {
   "cell_type": "code",
   "execution_count": 27,
   "metadata": {},
   "outputs": [
    {
     "name": "stdout",
     "output_type": "stream",
     "text": [
      "{\n",
      "  \"choices\": [\n",
      "    {\n",
      "      \"finish_reason\": \"tool_calls\",\n",
      "      \"index\": 0,\n",
      "      \"logprobs\": null,\n",
      "      \"message\": {\n",
      "        \"content\": null,\n",
      "        \"refusal\": null,\n",
      "        \"role\": \"assistant\",\n",
      "        \"tool_calls\": [\n",
      "          {\n",
      "            \"function\": {\n",
      "              \"arguments\": \"{\\\"path\\\":\\\"hello.txt\\\",\\\"content\\\":\\\"Hello World\\\"}\",\n",
      "              \"name\": \"create_file\"\n",
      "            },\n",
      "            \"id\": \"call_aknnXFhTDkvGxDNncS8NIql1\",\n",
      "            \"type\": \"function\"\n",
      "          }\n",
      "        ]\n",
      "      }\n",
      "    }\n",
      "  ],\n",
      "  \"created\": 1734502697,\n",
      "  \"id\": \"chatcmpl-AfhftIbO1QTJsHNLjL03GUrpfyavX\",\n",
      "  \"model\": \"gpt-4o-mini-2024-07-18\",\n",
      "  \"object\": \"chat.completion\",\n",
      "  \"system_fingerprint\": \"fp_6fc10e10eb\",\n",
      "  \"usage\": {\n",
      "    \"completion_tokens\": 20,\n",
      "    \"completion_tokens_details\": {\n",
      "      \"accepted_prediction_tokens\": 0,\n",
      "      \"audio_tokens\": 0,\n",
      "      \"reasoning_tokens\": 0,\n",
      "      \"rejected_prediction_tokens\": 0\n",
      "    },\n",
      "    \"prompt_tokens\": 81,\n",
      "    \"prompt_tokens_details\": {\n",
      "      \"audio_tokens\": 0,\n",
      "      \"cached_tokens\": 0\n",
      "    },\n",
      "    \"total_tokens\": 101\n",
      "  }\n",
      "}\n",
      "Generating tool call:  {\n",
      "  \"function\": {\n",
      "    \"arguments\": \"{\\\"path\\\":\\\"hello.txt\\\",\\\"content\\\":\\\"Hello World\\\"}\",\n",
      "    \"name\": \"create_file\"\n",
      "  },\n",
      "  \"id\": \"call_aknnXFhTDkvGxDNncS8NIql1\",\n",
      "  \"type\": \"function\"\n",
      "}\n",
      "Created file /Users/aidand/dev/babyagi/sandbox/hello.txt\n"
     ]
    }
   ],
   "source": [
    "import json\n",
    "\n",
    "SANDBOX_DIR = \"/Users/aidand/dev/babyagi/sandbox\"\n",
    "if not os.path.exists(SANDBOX_DIR):\n",
    "    os.makedirs(SANDBOX_DIR)\n",
    "\n",
    "def create_file(path, content):\n",
    "    with open(os.path.join(SANDBOX_DIR, path), \"w\") as f:\n",
    "        f.write(content)\n",
    "    print(f\"Created file {os.path.join(SANDBOX_DIR, path)}\")\n",
    "\n",
    "tools = [\n",
    "    {\n",
    "        \"type\": \"function\",\n",
    "        \"function\": {\n",
    "            \"name\": \"create_file\",\n",
    "            \"description\": \"Create a file with the given name and content\",\n",
    "            \"parameters\": {\n",
    "                \"type\": \"object\",\n",
    "                \"properties\": {\n",
    "                    \"path\": {\n",
    "                        \"type\": \"string\",\n",
    "                        \"description\": \"The relative path to the file to create\",\n",
    "                    },\n",
    "                    \"content\": {\n",
    "                        \"type\": \"string\",\n",
    "                        \"description\": \"The content of the file to create\",\n",
    "                    },\n",
    "                },\n",
    "                \"required\": [\"path\", \"content\"],\n",
    "            },\n",
    "        },\n",
    "    }\n",
    "]\n",
    "\n",
    "def maybe_create_file(prompt):  \n",
    "    messages = [{\"role\": \"system\", \"content\": prompt}]\n",
    "    response = openai.ChatCompletion.create(\n",
    "        model=\"gpt-4o-mini-2024-07-18\",\n",
    "        messages=messages,\n",
    "        n=1,\n",
    "        stop=None,\n",
    "        tools=tools,\n",
    "    )\n",
    "    print(response)\n",
    "    message = response.choices[0].message\n",
    "\n",
    "    if message.tool_calls and message.tool_calls[0].function.name == \"create_file\":\n",
    "        tool_call = message.tool_calls[0]\n",
    "        print(\"Generating tool call: \", tool_call)\n",
    "        arguments = json.loads(tool_call.function.arguments)\n",
    "        create_file(arguments[\"path\"], arguments[\"content\"])\n",
    "    else:\n",
    "        print(message)\n",
    "\n",
    "maybe_create_file(\"Create me a file called 'hello.txt' with the content 'Hello World'\")"
   ]
  },
  {
   "cell_type": "code",
   "execution_count": 24,
   "metadata": {},
   "outputs": [
    {
     "name": "stdout",
     "output_type": "stream",
     "text": [
      "Generating tool call:  {\n",
      "  \"function\": {\n",
      "    \"arguments\": \"{\\\"path\\\":\\\"hello_world.py\\\",\\\"content\\\":\\\"print('Hello World')\\\"}\",\n",
      "    \"name\": \"create_file\"\n",
      "  },\n",
      "  \"id\": \"call_AxCPlnlPCSSAwzp6D8X3Z4Ff\",\n",
      "  \"type\": \"function\"\n",
      "}\n",
      "Created file /Users/aidand/dev/babyagi/sandbox/hello_world.py\n"
     ]
    }
   ],
   "source": [
    "maybe_create_file(\"Write a python script that prints 'Hello World'\")"
   ]
  },
  {
   "cell_type": "code",
   "execution_count": 25,
   "metadata": {},
   "outputs": [
    {
     "name": "stdout",
     "output_type": "stream",
     "text": [
      "Generating tool call:  {\n",
      "  \"function\": {\n",
      "    \"arguments\": \"{\\\"path\\\":\\\"openai_api_call.py\\\",\\\"content\\\":\\\"import openai\\\\nimport os\\\\n\\\\ndef call_openai_api(prompt):\\\\n    openai.api_key = os.getenv('OPENAI_API_KEY')\\\\n    response = openai.ChatCompletion.create(\\\\n        model='gpt-3.5-turbo',\\\\n        messages=[{'role': 'user', 'content': prompt}]\\\\n    )\\\\n    return response['choices'][0]['message']['content']\\\\n\\\\nif __name__ == '__main__':\\\\n    prompt = 'Hello World'\\\\n    response = call_openai_api(prompt)\\\\n    print(response)\\\"}\",\n",
      "    \"name\": \"create_file\"\n",
      "  },\n",
      "  \"id\": \"call_bYpRikcwfNcOKgtJhPBUR2iR\",\n",
      "  \"type\": \"function\"\n",
      "}\n",
      "Created file /Users/aidand/dev/babyagi/sandbox/openai_api_call.py\n"
     ]
    }
   ],
   "source": [
    "maybe_create_file(\"Write me a python script that makes a call to the openai api to generate a response to the prompt 'Hello World'\")"
   ]
  }
 ],
 "metadata": {
  "kernelspec": {
   "display_name": "Python 3",
   "language": "python",
   "name": "python3"
  },
  "language_info": {
   "codemirror_mode": {
    "name": "ipython",
    "version": 3
   },
   "file_extension": ".py",
   "mimetype": "text/x-python",
   "name": "python",
   "nbconvert_exporter": "python",
   "pygments_lexer": "ipython3",
   "version": "3.10.16"
  }
 },
 "nbformat": 4,
 "nbformat_minor": 2
}
