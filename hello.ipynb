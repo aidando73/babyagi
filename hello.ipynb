{
 "cells": [
  {
   "cell_type": "code",
   "execution_count": 2,
   "metadata": {},
   "outputs": [],
   "source": [
    "import os\n",
    "import openai\n",
    "\n",
    "OPENAI_API_KEY = os.getenv(\"OPENAI_API_KEY\", \"\")\n",
    "openai.api_key = OPENAI_API_KEY"
   ]
  },
  {
   "cell_type": "code",
   "execution_count": 8,
   "metadata": {},
   "outputs": [
    {
     "data": {
      "text/plain": [
       "'Hello! How can I assist you today?'"
      ]
     },
     "execution_count": 8,
     "metadata": {},
     "output_type": "execute_result"
    }
   ],
   "source": [
    "messages = [{\"role\": \"system\", \"content\": \"Hello World\"}]\n",
    "response = openai.ChatCompletion.create(\n",
    "    model=\"gpt-4o-mini-2024-07-18\",\n",
    "    messages=messages,\n",
    "    n=1,\n",
    "    stop=None,\n",
    ")\n",
    "response.choices[0].message.content"
   ]
  },
  {
   "cell_type": "code",
   "execution_count": 23,
   "metadata": {},
   "outputs": [
    {
     "name": "stdout",
     "output_type": "stream",
     "text": [
      "Generating tool call:  {\n",
      "  \"function\": {\n",
      "    \"arguments\": \"{\\\"path\\\":\\\"hello.txt\\\",\\\"content\\\":\\\"Hello World\\\"}\",\n",
      "    \"name\": \"create_file\"\n",
      "  },\n",
      "  \"id\": \"call_msa0pBchVDbg6fsR4IkOoAXX\",\n",
      "  \"type\": \"function\"\n",
      "}\n",
      "Created file /Users/aidand/dev/babyagi/sandbox/hello.txt\n"
     ]
    }
   ],
   "source": [
    "import json\n",
    "\n",
    "SANDBOX_DIR = \"/Users/aidand/dev/babyagi/sandbox\"\n",
    "if not os.path.exists(SANDBOX_DIR):\n",
    "    os.makedirs(SANDBOX_DIR)\n",
    "\n",
    "def create_file(path, content):\n",
    "    with open(os.path.join(SANDBOX_DIR, path), \"w\") as f:\n",
    "        f.write(content)\n",
    "    print(f\"Created file {os.path.join(SANDBOX_DIR, path)}\")\n",
    "tools = [\n",
    "    {\n",
    "        \"type\": \"function\",\n",
    "        \"function\": {\n",
    "            \"name\": \"create_file\",\n",
    "            \"description\": \"Create a file with the given name and content\",\n",
    "            \"parameters\": {\n",
    "                \"type\": \"object\",\n",
    "                \"properties\": {\n",
    "                    \"path\": {\n",
    "                        \"type\": \"string\",\n",
    "                        \"description\": \"The relative path to the file to create\",\n",
    "                    },\n",
    "                    \"content\": {\n",
    "                        \"type\": \"string\",\n",
    "                        \"description\": \"The content of the file to create\",\n",
    "                    },\n",
    "                },\n",
    "                \"required\": [\"path\", \"content\"],\n",
    "            },\n",
    "        },\n",
    "    }\n",
    "]\n",
    "\n",
    "def maybe_create_file(prompt):  \n",
    "    messages = [{\"role\": \"system\", \"content\": prompt}]\n",
    "    response = openai.ChatCompletion.create(\n",
    "        model=\"gpt-4o-mini-2024-07-18\",\n",
    "        messages=messages,\n",
    "        n=1,\n",
    "        stop=None,\n",
    "        tools=tools,\n",
    "    )\n",
    "    message = response.choices[0].message\n",
    "\n",
    "    if message.tool_calls and message.tool_calls[0].function.name == \"create_file\":\n",
    "        tool_call = message.tool_calls[0]\n",
    "        print(\"Generating tool call: \", tool_call)\n",
    "        arguments = json.loads(tool_call.function.arguments)\n",
    "        create_file(arguments[\"path\"], arguments[\"content\"])\n",
    "    else:\n",
    "        print(message)\n",
    "\n",
    "maybe_create_file(\"Create me a file called 'hello.txt' with the content 'Hello World'\")"
   ]
  },
  {
   "cell_type": "code",
   "execution_count": 24,
   "metadata": {},
   "outputs": [
    {
     "name": "stdout",
     "output_type": "stream",
     "text": [
      "Generating tool call:  {\n",
      "  \"function\": {\n",
      "    \"arguments\": \"{\\\"path\\\":\\\"hello_world.py\\\",\\\"content\\\":\\\"print('Hello World')\\\"}\",\n",
      "    \"name\": \"create_file\"\n",
      "  },\n",
      "  \"id\": \"call_AxCPlnlPCSSAwzp6D8X3Z4Ff\",\n",
      "  \"type\": \"function\"\n",
      "}\n",
      "Created file /Users/aidand/dev/babyagi/sandbox/hello_world.py\n"
     ]
    }
   ],
   "source": [
    "maybe_create_file(\"Write a python script that prints 'Hello World'\")"
   ]
  },
  {
   "cell_type": "code",
   "execution_count": 25,
   "metadata": {},
   "outputs": [
    {
     "name": "stdout",
     "output_type": "stream",
     "text": [
      "Generating tool call:  {\n",
      "  \"function\": {\n",
      "    \"arguments\": \"{\\\"path\\\":\\\"openai_api_call.py\\\",\\\"content\\\":\\\"import openai\\\\nimport os\\\\n\\\\ndef call_openai_api(prompt):\\\\n    openai.api_key = os.getenv('OPENAI_API_KEY')\\\\n    response = openai.ChatCompletion.create(\\\\n        model='gpt-3.5-turbo',\\\\n        messages=[{'role': 'user', 'content': prompt}]\\\\n    )\\\\n    return response['choices'][0]['message']['content']\\\\n\\\\nif __name__ == '__main__':\\\\n    prompt = 'Hello World'\\\\n    response = call_openai_api(prompt)\\\\n    print(response)\\\"}\",\n",
      "    \"name\": \"create_file\"\n",
      "  },\n",
      "  \"id\": \"call_bYpRikcwfNcOKgtJhPBUR2iR\",\n",
      "  \"type\": \"function\"\n",
      "}\n",
      "Created file /Users/aidand/dev/babyagi/sandbox/openai_api_call.py\n"
     ]
    }
   ],
   "source": [
    "maybe_create_file(\"Write me a python script that makes a call to the openai api to generate a response to the prompt 'Hello World'\")"
   ]
  }
 ],
 "metadata": {
  "kernelspec": {
   "display_name": "Python 3",
   "language": "python",
   "name": "python3"
  },
  "language_info": {
   "codemirror_mode": {
    "name": "ipython",
    "version": 3
   },
   "file_extension": ".py",
   "mimetype": "text/x-python",
   "name": "python",
   "nbconvert_exporter": "python",
   "pygments_lexer": "ipython3",
   "version": "3.10.16"
  }
 },
 "nbformat": 4,
 "nbformat_minor": 2
}
